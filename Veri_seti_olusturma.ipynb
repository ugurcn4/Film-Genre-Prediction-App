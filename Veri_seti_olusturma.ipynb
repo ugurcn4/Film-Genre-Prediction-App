{
  "nbformat": 4,
  "nbformat_minor": 0,
  "metadata": {
    "colab": {
      "provenance": []
    },
    "kernelspec": {
      "name": "python3",
      "display_name": "Python 3"
    },
    "language_info": {
      "name": "python"
    }
  },
  "cells": [
    {
      "cell_type": "code",
      "execution_count": 38,
      "metadata": {
        "id": "s3oigC5LJPV4"
      },
      "outputs": [],
      "source": [
        "import requests\n",
        "import csv\n",
        "from google.colab import files  # Colab'dan indirme işlemi için"
      ]
    },
    {
      "cell_type": "code",
      "source": [
        "# TMDb API ayarları\n",
        "API_KEY = \"bb8429d2796b5eb1b2cd6a9c59297e67\"  # Buraya kendi API anahtarınızı girin\n",
        "BASE_URL = \"https://api.themoviedb.org/3\"\n",
        "LANGUAGE = \"tr-TR\"  # Türkçe sonuçlar için"
      ],
      "metadata": {
        "id": "EAZcF-szJyDM"
      },
      "execution_count": 39,
      "outputs": []
    },
    {
      "cell_type": "code",
      "source": [
        "# CSV dosyasına yazma fonksiyonu\n",
        "def write_to_csv(file_name, data):\n",
        "    with open(file_name, mode=\"w\", newline=\"\", encoding=\"utf-8\") as file:\n",
        "        writer = csv.writer(file)\n",
        "        # Başlıklar\n",
        "        writer.writerow([\"Film Adı\", \"Türler\", \"Özet\"])\n",
        "        # Veriler\n",
        "        for row in data:\n",
        "            writer.writerow(row)"
      ],
      "metadata": {
        "id": "2n1TIa6mJzoZ"
      },
      "execution_count": 40,
      "outputs": []
    },
    {
      "cell_type": "code",
      "source": [
        "# Filmleri al ve veri seti oluştur\n",
        "def fetch_movies(page_limit=10):\n",
        "    all_movies = []\n",
        "\n",
        "    for page in range(1, page_limit + 1):\n",
        "        url = f\"{BASE_URL}/movie/popular\"\n",
        "        params = {\n",
        "            \"api_key\": API_KEY,\n",
        "            \"language\": LANGUAGE,\n",
        "            \"page\": page\n",
        "        }\n",
        "\n",
        "        response = requests.get(url, params=params)\n",
        "        if response.status_code == 200:\n",
        "            data = response.json()\n",
        "            for movie in data.get(\"results\", []):\n",
        "                title = movie.get(\"title\")\n",
        "                overview = movie.get(\"overview\", \"Özet bulunamadı\")\n",
        "                genre_ids = movie.get(\"genre_ids\", [])\n",
        "\n",
        "                # Tür bilgilerini al\n",
        "                genres = fetch_genres(genre_ids)\n",
        "\n",
        "                # Veriyi listeye ekle\n",
        "                all_movies.append([title, \", \".join(genres), overview])\n",
        "        else:\n",
        "            print(f\"API hatası: {response.status_code}\")\n",
        "            break\n",
        "\n",
        "    return all_movies"
      ],
      "metadata": {
        "id": "QfoVjGNKJ2h4"
      },
      "execution_count": 41,
      "outputs": []
    },
    {
      "cell_type": "code",
      "source": [
        "# Tür ID'lerini al ve eşleştir\n",
        "def fetch_genres(genre_ids):\n",
        "    url = f\"{BASE_URL}/genre/movie/list\"\n",
        "    params = {\n",
        "        \"api_key\": API_KEY,\n",
        "        \"language\": LANGUAGE\n",
        "    }\n",
        "\n",
        "    response = requests.get(url, params=params)\n",
        "    if response.status_code == 200:\n",
        "        genres_data = response.json().get(\"genres\", [])\n",
        "        genres_dict = {genre[\"id\"]: genre[\"name\"] for genre in genres_data}\n",
        "        return [genres_dict.get(genre_id, \"Bilinmeyen Tür\") for genre_id in genre_ids]\n",
        "    else:\n",
        "        print(f\"Tür bilgisi alınamadı: {response.status_code}\")\n",
        "        return []\n"
      ],
      "metadata": {
        "id": "S2veyff3J5B_"
      },
      "execution_count": 42,
      "outputs": []
    },
    {
      "cell_type": "code",
      "source": [
        "# Veri setini oluştur ve kaydet\n",
        "def main():\n",
        "    print(\"Filmler alınıyor...\")\n",
        "    movies = fetch_movies(page_limit=500)  # İlk 500 sayfa için (her sayfa 20 film içerir)\n",
        "\n",
        "    # İlk filmi kontrol edin\n",
        "    if movies:\n",
        "        print(\"Örnek bir film verisi:\", movies[0])\n",
        "\n",
        "    print(f\"{len(movies)} film alındı.\")\n",
        "\n",
        "    file_name = \"turkce_filmler.csv\"\n",
        "    write_to_csv(file_name, movies)\n",
        "    print(f\"Veri seti {file_name} dosyasına kaydedildi.\")\n",
        "\n",
        "    # Colab üzerinden indirme\n",
        "    files.download(file_name)\n",
        "    print(f\"{file_name} dosyası indirilmeye hazır.\")\n",
        "\n",
        "if __name__ == \"__main__\":\n",
        "    main()"
      ],
      "metadata": {
        "colab": {
          "base_uri": "https://localhost:8080/",
          "height": 128
        },
        "id": "xOuRiCUZJ6Hm",
        "outputId": "e28531a9-0272-45b7-abb8-cc5c6a55c86f"
      },
      "execution_count": 44,
      "outputs": [
        {
          "output_type": "stream",
          "name": "stdout",
          "text": [
            "Filmler alınıyor...\n",
            "Örnek bir film verisi: ['Gladyatör II', 'Aksiyon, Macera, Dram', 'Gladyatör Maximus Decimus Meridius’un ölümünden 15 yıl sonrasıdır. Kana susamış kalabalıklar yarı deli ikiz imparatorları zalimliğin yeni zirvelerine iterken Kolezyum’daki savaşlar çok daha ölümcül ve görkemli hâle gelmiştir. Roma İmparatorluğu sınırlarını genişleterek, yoluna çıkan her kültürü yağmalayarak ve hayatta kalanları ringde yaşamları için savaşmaya zorlayarak yeryüzündeki yürüyüşünü sürdürmektedir.']\n",
            "10000 film alındı.\n",
            "Veri seti turkce_filmler.csv dosyasına kaydedildi.\n"
          ]
        },
        {
          "output_type": "display_data",
          "data": {
            "text/plain": [
              "<IPython.core.display.Javascript object>"
            ],
            "application/javascript": [
              "\n",
              "    async function download(id, filename, size) {\n",
              "      if (!google.colab.kernel.accessAllowed) {\n",
              "        return;\n",
              "      }\n",
              "      const div = document.createElement('div');\n",
              "      const label = document.createElement('label');\n",
              "      label.textContent = `Downloading \"${filename}\": `;\n",
              "      div.appendChild(label);\n",
              "      const progress = document.createElement('progress');\n",
              "      progress.max = size;\n",
              "      div.appendChild(progress);\n",
              "      document.body.appendChild(div);\n",
              "\n",
              "      const buffers = [];\n",
              "      let downloaded = 0;\n",
              "\n",
              "      const channel = await google.colab.kernel.comms.open(id);\n",
              "      // Send a message to notify the kernel that we're ready.\n",
              "      channel.send({})\n",
              "\n",
              "      for await (const message of channel.messages) {\n",
              "        // Send a message to notify the kernel that we're ready.\n",
              "        channel.send({})\n",
              "        if (message.buffers) {\n",
              "          for (const buffer of message.buffers) {\n",
              "            buffers.push(buffer);\n",
              "            downloaded += buffer.byteLength;\n",
              "            progress.value = downloaded;\n",
              "          }\n",
              "        }\n",
              "      }\n",
              "      const blob = new Blob(buffers, {type: 'application/binary'});\n",
              "      const a = document.createElement('a');\n",
              "      a.href = window.URL.createObjectURL(blob);\n",
              "      a.download = filename;\n",
              "      div.appendChild(a);\n",
              "      a.click();\n",
              "      div.remove();\n",
              "    }\n",
              "  "
            ]
          },
          "metadata": {}
        },
        {
          "output_type": "display_data",
          "data": {
            "text/plain": [
              "<IPython.core.display.Javascript object>"
            ],
            "application/javascript": [
              "download(\"download_486afef9-5dea-4c41-b8b7-acccb43fc964\", \"turkce_filmler.csv\", 4113921)"
            ]
          },
          "metadata": {}
        },
        {
          "output_type": "stream",
          "name": "stdout",
          "text": [
            "turkce_filmler.csv dosyası indirilmeye hazır.\n"
          ]
        }
      ]
    }
  ]
}